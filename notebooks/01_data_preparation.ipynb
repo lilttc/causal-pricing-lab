{
 "cells": [
  {
   "cell_type": "code",
   "execution_count": 1,
   "id": "c45d17e7",
   "metadata": {},
   "outputs": [],
   "source": [
    "import os\n",
    "from pathlib import Path\n",
    "import yaml\n",
    "from causal_pricing.io import read_csv, to_parquet\n",
    "from causal_pricing.cleaning import basic_clean, add_derived_fields, make_daily_product_city\n",
    "from causal_pricing.features import make_time_features, encode_city_dummies"
   ]
  },
  {
   "cell_type": "code",
   "execution_count": 2,
   "id": "ef143493",
   "metadata": {},
   "outputs": [
    {
     "name": "stdout",
     "output_type": "stream",
     "text": [
      "CWD: /home/tchen/casual-pricing-lab\n"
     ]
    }
   ],
   "source": [
    "# Move working directory to project root\n",
    "os.chdir(Path.cwd().parents[0])\n",
    "print(\"CWD:\", Path.cwd())"
   ]
  },
  {
   "cell_type": "code",
   "execution_count": 3,
   "id": "ff73e256",
   "metadata": {},
   "outputs": [],
   "source": [
    "# Load configs\n",
    "paths = yaml.safe_load(open(\"configs/paths.yaml\"))\n",
    "params = yaml.safe_load(open(\"configs/params.yaml\"))\n"
   ]
  },
  {
   "cell_type": "code",
   "execution_count": 4,
   "id": "675756d8",
   "metadata": {},
   "outputs": [],
   "source": [
    "# 1) Load raw\n",
    "df_raw = read_csv(paths[\"raw_sales\"])"
   ]
  },
  {
   "cell_type": "code",
   "execution_count": 5,
   "id": "3e7aa5c1",
   "metadata": {},
   "outputs": [
    {
     "name": "stderr",
     "output_type": "stream",
     "text": [
      "/home/tchen/casual-pricing-lab/src/causal_pricing/cleaning.py:87: UserWarning: The argument 'infer_datetime_format' is deprecated and will be removed in a future version. A strict version of it is now the default, see https://pandas.pydata.org/pdeps/0004-consistent-to-datetime-parsing.html. You can safely remove this argument.\n",
      "  df[date_col] = pd.to_datetime(df[date_col], errors=\"coerce\", infer_datetime_format=True)\n",
      "/home/tchen/casual-pricing-lab/src/causal_pricing/cleaning.py:87: UserWarning: Could not infer format, so each element will be parsed individually, falling back to `dateutil`. To ensure parsing is consistent and as-expected, please specify a format.\n",
      "  df[date_col] = pd.to_datetime(df[date_col], errors=\"coerce\", infer_datetime_format=True)\n"
     ]
    }
   ],
   "source": [
    "# 2) Clean\n",
    "df_clean = basic_clean(df_raw)"
   ]
  },
  {
   "cell_type": "markdown",
   "id": "ccdeff39",
   "metadata": {},
   "source": [
    "#### Cleaning Steps:\n",
    "- 1) Drop all-NaN rows.\n",
    "- 2) Remove repeated header rows (date column token).\n",
    "- 3) Coerce quantity/price to numeric.\n",
    "- 4) Parse order datetime.\n",
    "- 5) Require non-null in [Order Date, Product, Quantity Ordered, Price Each].\n",
    "- 6) Keep strictly positive quantity and price.\n",
    "- 7) Remove extreme outliers via IQR caps (OUTLIER_IQR_MULT).\n",
    "- 8) Drop exact duplicates.\n",
    "- 9) Sort by datetime."
   ]
  },
  {
   "cell_type": "code",
   "execution_count": 6,
   "id": "25fa1e42",
   "metadata": {},
   "outputs": [],
   "source": [
    "# 3) Add engineered fields\n",
    "df_feat = add_derived_fields(df_clean)\n",
    "df_feat = make_time_features(df_feat)\n",
    "df_feat = encode_city_dummies(df_feat, min_count=int(params[\"city_min_count\"]))"
   ]
  },
  {
   "cell_type": "markdown",
   "id": "2b3a2f33",
   "metadata": {},
   "source": [
    "#### Adds:\n",
    "- Revenue = Quantity Ordered * Price Each\n",
    "- Date parts: year, month, day, weekday, hour\n",
    "- Address parts: city, state, zip"
   ]
  },
  {
   "cell_type": "code",
   "execution_count": 7,
   "id": "00b08b13",
   "metadata": {},
   "outputs": [],
   "source": [
    "# 4) Save interim\n",
    "to_parquet(df_feat, paths[\"interim_clean\"])"
   ]
  },
  {
   "cell_type": "code",
   "execution_count": 8,
   "id": "03c8f18a",
   "metadata": {},
   "outputs": [],
   "source": [
    "# 5) Aggregate to daily × product × city\n",
    "df_daily = make_daily_product_city(df_feat)\n",
    "to_parquet(df_daily, paths[\"processed_daily\"])"
   ]
  },
  {
   "cell_type": "code",
   "execution_count": 9,
   "id": "0dfd0b97",
   "metadata": {},
   "outputs": [
    {
     "data": {
      "text/plain": [
       "(  Order ID                   Product  Quantity Ordered  Price Each  \\\n",
       " 0   177831  Lightning Charging Cable                 1       14.95   \n",
       " 1   177687          Wired Headphones                 1       11.99   \n",
       " 2   186754          27in FHD Monitor                 1      149.99   \n",
       " 3   185103      USB-C Charging Cable                 1       11.95   \n",
       " 4   191585              20in Monitor                 1      109.99   \n",
       " \n",
       "            Order Date                            Purchase Address  Revenue  \\\n",
       " 0 2019-04-01 03:09:00         914 6th St, San Francisco, CA 94016    14.95   \n",
       " 1 2019-04-01 04:12:00       23 Meadow St, San Francisco, CA 94016    11.99   \n",
       " 2 2019-04-01 05:06:00    824 Chestnut St, San Francisco, CA 94016   149.99   \n",
       " 3 2019-04-01 05:18:00  610 Washington St, San Francisco, CA 94016    11.95   \n",
       " 4 2019-04-01 05:58:00        686 Main St, New York City, NY 10001   109.99   \n",
       " \n",
       "    year  month  day  ...      city_norm  city_Atlanta city_Austin city_Boston  \\\n",
       " 0  2019      4    1  ...  San Francisco             0           0           0   \n",
       " 1  2019      4    1  ...  San Francisco             0           0           0   \n",
       " 2  2019      4    1  ...  San Francisco             0           0           0   \n",
       " 3  2019      4    1  ...  San Francisco             0           0           0   \n",
       " 4  2019      4    1  ...  New York City             0           0           0   \n",
       " \n",
       "   city_Dallas city_Los Angeles city_New York City city_Portland  \\\n",
       " 0           0                0                  0             0   \n",
       " 1           0                0                  0             0   \n",
       " 2           0                0                  0             0   \n",
       " 3           0                0                  0             0   \n",
       " 4           0                0                  1             0   \n",
       " \n",
       "   city_San Francisco  city_Seattle  \n",
       " 0                  1             0  \n",
       " 1                  1             0  \n",
       " 2                  1             0  \n",
       " 3                  1             0  \n",
       " 4                  0             0  \n",
       " \n",
       " [5 rows x 28 columns],\n",
       "          date       product           city  qty  revenue  avg_price\n",
       " 0  2019-04-01  20in Monitor        Atlanta    1   109.99     109.99\n",
       " 1  2019-04-01  20in Monitor         Boston    2   219.98     109.99\n",
       " 2  2019-04-01  20in Monitor    Los Angeles    3   329.97     109.99\n",
       " 3  2019-04-01  20in Monitor  New York City    2   219.98     109.99\n",
       " 4  2019-04-01  20in Monitor       Portland    1   109.99     109.99,\n",
       " (27366, 28),\n",
       " (7849, 6))"
      ]
     },
     "execution_count": 9,
     "metadata": {},
     "output_type": "execute_result"
    }
   ],
   "source": [
    "df_feat.head(), df_daily.head(), df_feat.shape, df_daily.shape"
   ]
  }
 ],
 "metadata": {
  "kernelspec": {
   "display_name": ".venv",
   "language": "python",
   "name": "python3"
  },
  "language_info": {
   "codemirror_mode": {
    "name": "ipython",
    "version": 3
   },
   "file_extension": ".py",
   "mimetype": "text/x-python",
   "name": "python",
   "nbconvert_exporter": "python",
   "pygments_lexer": "ipython3",
   "version": "3.10.12"
  }
 },
 "nbformat": 4,
 "nbformat_minor": 5
}
